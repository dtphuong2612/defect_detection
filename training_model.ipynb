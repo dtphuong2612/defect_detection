{
  "metadata": {
    "colab": {
      "provenance": [],
      "include_colab_link": true
    },
    "kernelspec": {
      "name": "python3",
      "display_name": "Python 3",
      "language": "python"
    },
    "language_info": {
      "name": "python",
      "version": "3.7.12",
      "mimetype": "text/x-python",
      "codemirror_mode": {
        "name": "ipython",
        "version": 3
      },
      "pygments_lexer": "ipython3",
      "nbconvert_exporter": "python",
      "file_extension": ".py"
    },
    "accelerator": "GPU",
    "gpuClass": "standard"
  },
  "nbformat_minor": 0,
  "nbformat": 4,
  "cells": [
    {
      "cell_type": "markdown",
      "metadata": {
        "id": "view-in-github",
        "colab_type": "text"
      },
      "source": [
        "<a href=\"https://colab.research.google.com/github/dtphuong2612/defect_detection/blob/main/training_model.ipynb\" target=\"_parent\"><img src=\"https://colab.research.google.com/assets/colab-badge.svg\" alt=\"Open In Colab\"/></a>"
      ]
    },
    {
      "cell_type": "code",
      "source": [
        "!pip install segmentation_models"
      ],
      "metadata": {
        "colab": {
          "base_uri": "https://localhost:8080/"
        },
        "id": "slLU-cATnDYd",
        "outputId": "1358edb3-af1c-4098-d17b-4ba18f0dc61c",
        "execution": {
          "iopub.status.busy": "2022-12-20T02:59:06.853722Z",
          "iopub.execute_input": "2022-12-20T02:59:06.854077Z",
          "iopub.status.idle": "2022-12-20T02:59:19.780167Z",
          "shell.execute_reply.started": "2022-12-20T02:59:06.853994Z",
          "shell.execute_reply": "2022-12-20T02:59:19.779017Z"
        },
        "trusted": true
      },
      "execution_count": null,
      "outputs": [
        {
          "name": "stdout",
          "text": "Collecting segmentation_models\n  Downloading segmentation_models-1.0.1-py3-none-any.whl (33 kB)\nCollecting image-classifiers==1.0.0\n  Downloading image_classifiers-1.0.0-py3-none-any.whl (19 kB)\nCollecting efficientnet==1.0.0\n  Downloading efficientnet-1.0.0-py3-none-any.whl (17 kB)\nCollecting keras-applications<=1.0.8,>=1.0.7\n  Downloading Keras_Applications-1.0.8-py3-none-any.whl (50 kB)\n\u001b[2K     \u001b[90m━━━━━━━━━━━━━━━━━━━━━━━━━━━━━━━━━━━━━━━━\u001b[0m \u001b[32m50.7/50.7 kB\u001b[0m \u001b[31m1.5 MB/s\u001b[0m eta \u001b[36m0:00:00\u001b[0m\n\u001b[?25hRequirement already satisfied: scikit-image in /opt/conda/lib/python3.7/site-packages (from efficientnet==1.0.0->segmentation_models) (0.19.3)\nRequirement already satisfied: h5py in /opt/conda/lib/python3.7/site-packages (from keras-applications<=1.0.8,>=1.0.7->segmentation_models) (3.7.0)\nRequirement already satisfied: numpy>=1.9.1 in /opt/conda/lib/python3.7/site-packages (from keras-applications<=1.0.8,>=1.0.7->segmentation_models) (1.21.6)\nRequirement already satisfied: packaging>=20.0 in /opt/conda/lib/python3.7/site-packages (from scikit-image->efficientnet==1.0.0->segmentation_models) (21.3)\nRequirement already satisfied: PyWavelets>=1.1.1 in /opt/conda/lib/python3.7/site-packages (from scikit-image->efficientnet==1.0.0->segmentation_models) (1.3.0)\nRequirement already satisfied: imageio>=2.4.1 in /opt/conda/lib/python3.7/site-packages (from scikit-image->efficientnet==1.0.0->segmentation_models) (2.19.3)\nRequirement already satisfied: pillow!=7.1.0,!=7.1.1,!=8.3.0,>=6.1.0 in /opt/conda/lib/python3.7/site-packages (from scikit-image->efficientnet==1.0.0->segmentation_models) (9.1.1)\nRequirement already satisfied: tifffile>=2019.7.26 in /opt/conda/lib/python3.7/site-packages (from scikit-image->efficientnet==1.0.0->segmentation_models) (2021.11.2)\nRequirement already satisfied: networkx>=2.2 in /opt/conda/lib/python3.7/site-packages (from scikit-image->efficientnet==1.0.0->segmentation_models) (2.5)\nRequirement already satisfied: scipy>=1.4.1 in /opt/conda/lib/python3.7/site-packages (from scikit-image->efficientnet==1.0.0->segmentation_models) (1.7.3)\nRequirement already satisfied: decorator>=4.3.0 in /opt/conda/lib/python3.7/site-packages (from networkx>=2.2->scikit-image->efficientnet==1.0.0->segmentation_models) (5.1.1)\nRequirement already satisfied: pyparsing!=3.0.5,>=2.0.2 in /opt/conda/lib/python3.7/site-packages (from packaging>=20.0->scikit-image->efficientnet==1.0.0->segmentation_models) (3.0.9)\nInstalling collected packages: keras-applications, image-classifiers, efficientnet, segmentation_models\nSuccessfully installed efficientnet-1.0.0 image-classifiers-1.0.0 keras-applications-1.0.8 segmentation_models-1.0.1\n\u001b[33mWARNING: Running pip as the 'root' user can result in broken permissions and conflicting behaviour with the system package manager. It is recommended to use a virtual environment instead: https://pip.pypa.io/warnings/venv\u001b[0m\u001b[33m\n\u001b[0m",
          "output_type": "stream"
        }
      ]
    },
    {
      "cell_type": "code",
      "source": [
        "from sklearn.model_selection import train_test_split\n",
        "import os\n",
        "import random\n",
        "\n",
        "import tensorflow as tf\n",
        "import cv2\n",
        "import numpy as np\n",
        "\n",
        "# Import thu vien segmentation_models\n",
        "from segmentation_models.metrics import iou_score\n",
        "from segmentation_models import Unet\n",
        "import segmentation_models as sm\n",
        "sm.set_framework(\"tf.keras\")\n",
        "sm.framework()\n",
        "\n",
        "# Dinh nghia bien\n",
        "data_path  = \"/kaggle/input/dataset-defect/NV_public_defects\"\n",
        "w, h = 512, 512\n",
        "batch_size = 16\n",
        "\n",
        "# Dataset va Dataloader\n",
        "\n",
        "BACKBONE = \"inceptionv3\"\n",
        "preprocess_input = sm.get_preprocessing(BACKBONE)"
      ],
      "metadata": {
        "execution": {
          "iopub.status.busy": "2022-12-19T11:14:15.516623Z",
          "iopub.execute_input": "2022-12-19T11:14:15.516992Z",
          "iopub.status.idle": "2022-12-19T11:14:15.523443Z",
          "shell.execute_reply.started": "2022-12-19T11:14:15.516960Z",
          "shell.execute_reply": "2022-12-19T11:14:15.522475Z"
        },
        "trusted": true,
        "id": "33vyRDKTpq0N"
      },
      "execution_count": null,
      "outputs": []
    },
    {
      "cell_type": "code",
      "source": [
        "\n",
        "\n",
        "# Dung de tao toan bo du lieu va load theo batch\n",
        "class Dataset:\n",
        "    def __init__(self, image_path, mask_path, w, h):\n",
        "        # the paths of images\n",
        "        self.image_path = image_path\n",
        "        # the paths of segmentation images\n",
        "        self.mask_path = mask_path\n",
        "\n",
        "        self.w = w\n",
        "        self.h = h\n",
        "\n",
        "    def __getitem__(self, i):\n",
        "        # read data\n",
        "        image = cv2.imread(self.image_path[i])\n",
        "        image = cv2.resize(image, (self.w, self.h), interpolation=cv2.INTER_AREA)\n",
        "        image = preprocess_input(image)\n",
        "\n",
        "        mask = cv2.imread(self.mask_path[i], cv2.IMREAD_UNCHANGED)\n",
        "        image_mask = cv2.resize(mask, (self.w, self.h), interpolation=cv2.INTER_AREA)\n",
        "\n",
        "        image_mask = [(image_mask == v) for v in [1]]\n",
        "        image_mask = np.stack(image_mask, axis=-1).astype('float')\n",
        "\n",
        "        return image, image_mask\n",
        "\n",
        "class Dataloader(tf.keras.utils.Sequence):\n",
        "    def __init__(self, dataset, batch_size,shape, shuffle=False):\n",
        "        self.dataset = dataset\n",
        "        self.batch_size = batch_size\n",
        "        self.shuffle = shuffle\n",
        "        self.shape = shape\n",
        "        self.indexes = np.arange(self.shape)\n",
        "\n",
        "    def __getitem__(self, i):\n",
        "        # collect batch data\n",
        "        start = i * self.batch_size\n",
        "        stop = (i + 1) * self.batch_size\n",
        "        data = []\n",
        "        for j in range(start, stop):\n",
        "            data.append(self.dataset[j])\n",
        "\n",
        "        batch = [np.stack(samples, axis=0) for samples in zip(*data)]\n",
        "\n",
        "        return tuple(batch)\n",
        "\n",
        "    def __len__(self):\n",
        "        return len(self.indexes) // self.batch_size\n",
        "\n",
        "    def on_epoch_end(self):\n",
        "        if self.shuffle:\n",
        "            self.indexes = np.random.permutation(self.indexes)\n",
        "\n",
        "#  Load thong tin tu folder dataset de tao 2 bien image_path, mask_path\n",
        "def load_path(data_path):\n",
        "    # Get normal image and mask\n",
        "    classes = ['Class1', 'Class2', 'Class3', 'Class4', 'Class5', 'Class6']\n",
        "\n",
        "    # Lop qua cac thu muc khong loi\n",
        "    normal_image_path = []\n",
        "    normal_mask_path = []\n",
        "    for class_ in classes:\n",
        "        current_folder = os.path.join(data_path, class_)\n",
        "        for file in os.listdir(current_folder):\n",
        "            if file.endswith(\"png\") and (not file.startswith(\".\")):\n",
        "                image_path = os.path.join(current_folder, file)\n",
        "                mask_path = os.path.join(current_folder + \"_mask\", file)\n",
        "                normal_mask_path.append(mask_path)\n",
        "                normal_image_path.append(image_path)\n",
        "\n",
        "    # Get defect image and mask\n",
        "    defect_image_path = []\n",
        "    defect_mask_path = []\n",
        "    for class_ in classes:\n",
        "        class_ = class_ + \"_def\"\n",
        "        current_folder = os.path.join(data_path, class_)\n",
        "        for file in os.listdir(current_folder):\n",
        "            if file.endswith(\"png\") and (not file.startswith(\".\")):\n",
        "                image_path = os.path.join(current_folder, file)\n",
        "                mask_path = os.path.join(current_folder + \"_mask\", file)\n",
        "                defect_mask_path.append(mask_path)\n",
        "                defect_image_path.append(image_path)\n",
        "\n",
        "    # Normal:   normal_mask_path - chua toan bo duong dan cua mask\n",
        "    #            normal_image_path-  chua toan bo duong dan den image\n",
        "    # Defect:   defect_mask_path - chua toan bo duong dan cua mask\n",
        "    #            defect_image_path-  chua toan bo duong dan den image\n",
        "\n",
        "    idx = random.sample(range(len(normal_mask_path)), len(defect_mask_path))\n",
        "\n",
        "    normal_mask_path_new = []\n",
        "    normal_image_path_new = []\n",
        "\n",
        "    for id in idx:\n",
        "        normal_image_path_new.append(normal_image_path[id])\n",
        "        normal_mask_path_new.append(normal_mask_path[id])\n",
        "\n",
        "    image_path = normal_image_path_new + defect_image_path\n",
        "    mask_path = normal_mask_path_new + defect_mask_path\n",
        "\n",
        "    return image_path, mask_path\n",
        "\n",
        "# Thu hien load va train model\n",
        "\n",
        "# Load duong dan vao 2 bien\n",
        "image_path, mask_path = load_path(data_path)\n",
        "\n",
        "# Chia du lieu train, test\n",
        "image_train, image_test, mask_train, mask_test = train_test_split(image_path, mask_path, test_size=0.2)\n",
        "\n",
        "# Tao dataset va dataloader\n",
        "train_dataset = Dataset(image_train, mask_train, w, h)\n",
        "test_dataset = Dataset(image_test, mask_test, w, h)\n",
        "\n",
        "train_loader = Dataloader(train_dataset, batch_size, shape=len(image_train), shuffle=True)\n",
        "test_loader = Dataloader(test_dataset, batch_size, shape=len(image_test), shuffle=True)\n"
      ],
      "metadata": {
        "execution": {
          "iopub.status.busy": "2022-12-19T11:14:21.435019Z",
          "iopub.execute_input": "2022-12-19T11:14:21.435393Z",
          "iopub.status.idle": "2022-12-19T11:14:21.494904Z",
          "shell.execute_reply.started": "2022-12-19T11:14:21.435361Z",
          "shell.execute_reply": "2022-12-19T11:14:21.494008Z"
        },
        "trusted": true,
        "id": "xBHVQB24pq0N"
      },
      "execution_count": null,
      "outputs": []
    },
    {
      "cell_type": "code",
      "source": [
        "wgt = '/kaggle/input/weight-inceptionv3/inception_v3_weights_tf_dim_ordering_tf_kernels_notop.h5'\n",
        "# Khoi tao model\n",
        "opt=tf.keras.optimizers.Adam(0.01)\n",
        "model= Unet(BACKBONE,encoder_weights=wgt,classes=1,activation=\"sigmoid\",input_shape=(512,512,3),encoder_freeze=True)\n",
        "loss1 = sm.losses.categorical_focal_dice_loss\n",
        "model.compile(optimizer=opt,loss=loss1,metrics=[iou_score])\n",
        "\n",
        "# Train model\n",
        "from keras.callbacks import ModelCheckpoint\n",
        "filepath=\"ckp_resnet50.hdf5\"\n",
        "callback = ModelCheckpoint(filepath, monitor='val_iou_score', verbose=1, save_best_only=True,mode='max')\n",
        "\n",
        "model.fit_generator( train_loader, validation_data=test_loader, epochs=60, callbacks=[callback])\n"
      ],
      "metadata": {
        "execution": {
          "iopub.status.busy": "2022-12-19T11:14:41.613792Z",
          "iopub.execute_input": "2022-12-19T11:14:41.614274Z",
          "iopub.status.idle": "2022-12-19T12:09:20.731155Z",
          "shell.execute_reply.started": "2022-12-19T11:14:41.614230Z",
          "shell.execute_reply": "2022-12-19T12:09:20.730114Z"
        },
        "trusted": true,
        "id": "djVKp6cKpq0O",
        "outputId": "1ea79664-777b-462f-8992-1191fc9b4e56"
      },
      "execution_count": null,
      "outputs": [
        {
          "name": "stdout",
          "text": "Epoch 1/60\n90/90 [==============================] - 63s 601ms/step - loss: 0.6401 - iou_score: 0.2498 - val_loss: 0.9726 - val_iou_score: 0.0147\n\nEpoch 00001: val_iou_score improved from -inf to 0.01471, saving model to ckp_resnet50.hdf5\nEpoch 2/60\n90/90 [==============================] - 52s 571ms/step - loss: 0.3552 - iou_score: 0.4957 - val_loss: 0.7987 - val_iou_score: 0.1156\n\nEpoch 00002: val_iou_score improved from 0.01471 to 0.11560, saving model to ckp_resnet50.hdf5\nEpoch 3/60\n90/90 [==============================] - 52s 579ms/step - loss: 0.2933 - iou_score: 0.5646 - val_loss: 0.4006 - val_iou_score: 0.4463\n\nEpoch 00003: val_iou_score improved from 0.11560 to 0.44628, saving model to ckp_resnet50.hdf5\nEpoch 4/60\n90/90 [==============================] - 52s 575ms/step - loss: 0.2579 - iou_score: 0.6066 - val_loss: 0.3448 - val_iou_score: 0.5019\n\nEpoch 00004: val_iou_score improved from 0.44628 to 0.50187, saving model to ckp_resnet50.hdf5\nEpoch 5/60\n90/90 [==============================] - 52s 576ms/step - loss: 0.2517 - iou_score: 0.6137 - val_loss: 0.3496 - val_iou_score: 0.4984\n\nEpoch 00005: val_iou_score did not improve from 0.50187\nEpoch 6/60\n90/90 [==============================] - 52s 578ms/step - loss: 0.2192 - iou_score: 0.6562 - val_loss: 0.3378 - val_iou_score: 0.5163\n\nEpoch 00006: val_iou_score improved from 0.50187 to 0.51627, saving model to ckp_resnet50.hdf5\nEpoch 7/60\n90/90 [==============================] - 52s 576ms/step - loss: 0.2170 - iou_score: 0.6577 - val_loss: 0.3436 - val_iou_score: 0.5097\n\nEpoch 00007: val_iou_score did not improve from 0.51627\nEpoch 8/60\n90/90 [==============================] - 53s 584ms/step - loss: 0.1864 - iou_score: 0.6981 - val_loss: 0.3739 - val_iou_score: 0.4779\n\nEpoch 00008: val_iou_score did not improve from 0.51627\nEpoch 9/60\n90/90 [==============================] - 52s 571ms/step - loss: 0.1659 - iou_score: 0.7263 - val_loss: 0.3316 - val_iou_score: 0.5180\n\nEpoch 00009: val_iou_score improved from 0.51627 to 0.51798, saving model to ckp_resnet50.hdf5\nEpoch 10/60\n90/90 [==============================] - 51s 570ms/step - loss: 0.1600 - iou_score: 0.7345 - val_loss: 0.3109 - val_iou_score: 0.5439\n\nEpoch 00010: val_iou_score improved from 0.51798 to 0.54387, saving model to ckp_resnet50.hdf5\nEpoch 11/60\n90/90 [==============================] - 52s 577ms/step - loss: 0.1443 - iou_score: 0.7564 - val_loss: 0.3338 - val_iou_score: 0.5234\n\nEpoch 00011: val_iou_score did not improve from 0.54387\nEpoch 12/60\n90/90 [==============================] - 52s 573ms/step - loss: 0.1300 - iou_score: 0.7788 - val_loss: 0.3146 - val_iou_score: 0.5374\n\nEpoch 00012: val_iou_score did not improve from 0.54387\nEpoch 13/60\n90/90 [==============================] - 52s 572ms/step - loss: 0.1767 - iou_score: 0.7124 - val_loss: 0.3027 - val_iou_score: 0.5522\n\nEpoch 00013: val_iou_score improved from 0.54387 to 0.55223, saving model to ckp_resnet50.hdf5\nEpoch 14/60\n90/90 [==============================] - 52s 578ms/step - loss: 0.1667 - iou_score: 0.7265 - val_loss: 0.3285 - val_iou_score: 0.5280\n\nEpoch 00014: val_iou_score did not improve from 0.55223\nEpoch 15/60\n90/90 [==============================] - 52s 575ms/step - loss: 0.1544 - iou_score: 0.7435 - val_loss: 0.3410 - val_iou_score: 0.5113\n\nEpoch 00015: val_iou_score did not improve from 0.55223\nEpoch 16/60\n90/90 [==============================] - 52s 573ms/step - loss: 0.1265 - iou_score: 0.7842 - val_loss: 0.3074 - val_iou_score: 0.5481\n\nEpoch 00016: val_iou_score did not improve from 0.55223\nEpoch 17/60\n90/90 [==============================] - 52s 576ms/step - loss: 0.1090 - iou_score: 0.8110 - val_loss: 0.2768 - val_iou_score: 0.5838\n\nEpoch 00017: val_iou_score improved from 0.55223 to 0.58376, saving model to ckp_resnet50.hdf5\nEpoch 18/60\n90/90 [==============================] - 52s 575ms/step - loss: 0.1042 - iou_score: 0.8184 - val_loss: 0.2947 - val_iou_score: 0.5639\n\nEpoch 00018: val_iou_score did not improve from 0.58376\nEpoch 19/60\n90/90 [==============================] - 52s 579ms/step - loss: 0.0975 - iou_score: 0.8290 - val_loss: 0.2772 - val_iou_score: 0.5799\n\nEpoch 00019: val_iou_score did not improve from 0.58376\nEpoch 20/60\n90/90 [==============================] - 51s 569ms/step - loss: 0.0934 - iou_score: 0.8354 - val_loss: 0.2670 - val_iou_score: 0.5958\n\nEpoch 00020: val_iou_score improved from 0.58376 to 0.59578, saving model to ckp_resnet50.hdf5\nEpoch 21/60\n90/90 [==============================] - 52s 574ms/step - loss: 0.0875 - iou_score: 0.8450 - val_loss: 0.2771 - val_iou_score: 0.5851\n\nEpoch 00021: val_iou_score did not improve from 0.59578\nEpoch 22/60\n90/90 [==============================] - 53s 587ms/step - loss: 0.0868 - iou_score: 0.8460 - val_loss: 0.2669 - val_iou_score: 0.5978\n\nEpoch 00022: val_iou_score improved from 0.59578 to 0.59785, saving model to ckp_resnet50.hdf5\nEpoch 23/60\n90/90 [==============================] - 52s 579ms/step - loss: 0.0906 - iou_score: 0.8404 - val_loss: 0.2658 - val_iou_score: 0.5996\n\nEpoch 00023: val_iou_score improved from 0.59785 to 0.59961, saving model to ckp_resnet50.hdf5\nEpoch 24/60\n90/90 [==============================] - 52s 577ms/step - loss: 0.1026 - iou_score: 0.8221 - val_loss: 0.2670 - val_iou_score: 0.5930\n\nEpoch 00024: val_iou_score did not improve from 0.59961\nEpoch 25/60\n90/90 [==============================] - 52s 577ms/step - loss: 0.0973 - iou_score: 0.8293 - val_loss: 0.2781 - val_iou_score: 0.5837\n\nEpoch 00025: val_iou_score did not improve from 0.59961\nEpoch 26/60\n90/90 [==============================] - 51s 570ms/step - loss: 0.1070 - iou_score: 0.8149 - val_loss: 0.2913 - val_iou_score: 0.5718\n\nEpoch 00026: val_iou_score did not improve from 0.59961\nEpoch 27/60\n90/90 [==============================] - 52s 579ms/step - loss: 0.0968 - iou_score: 0.8306 - val_loss: 0.2761 - val_iou_score: 0.5868\n\nEpoch 00027: val_iou_score did not improve from 0.59961\nEpoch 28/60\n90/90 [==============================] - 52s 577ms/step - loss: 0.0832 - iou_score: 0.8524 - val_loss: 0.2936 - val_iou_score: 0.5663\n\nEpoch 00028: val_iou_score did not improve from 0.59961\nEpoch 29/60\n90/90 [==============================] - 52s 574ms/step - loss: 0.0803 - iou_score: 0.8570 - val_loss: 0.2883 - val_iou_score: 0.5740\n\nEpoch 00029: val_iou_score did not improve from 0.59961\nEpoch 30/60\n90/90 [==============================] - 52s 580ms/step - loss: 0.0743 - iou_score: 0.8670 - val_loss: 0.2737 - val_iou_score: 0.5910\n\nEpoch 00030: val_iou_score did not improve from 0.59961\nEpoch 31/60\n90/90 [==============================] - 52s 580ms/step - loss: 0.0717 - iou_score: 0.8715 - val_loss: 0.2738 - val_iou_score: 0.5891\n\nEpoch 00031: val_iou_score did not improve from 0.59961\nEpoch 32/60\n90/90 [==============================] - 52s 575ms/step - loss: 0.0680 - iou_score: 0.8778 - val_loss: 0.2581 - val_iou_score: 0.6071\n\nEpoch 00032: val_iou_score improved from 0.59961 to 0.60710, saving model to ckp_resnet50.hdf5\nEpoch 33/60\n90/90 [==============================] - 52s 576ms/step - loss: 0.0697 - iou_score: 0.8752 - val_loss: 0.2796 - val_iou_score: 0.5792\n\nEpoch 00033: val_iou_score did not improve from 0.60710\nEpoch 34/60\n90/90 [==============================] - 52s 578ms/step - loss: 0.0702 - iou_score: 0.8739 - val_loss: 0.2604 - val_iou_score: 0.6067\n\nEpoch 00034: val_iou_score did not improve from 0.60710\nEpoch 35/60\n90/90 [==============================] - 52s 579ms/step - loss: 0.0665 - iou_score: 0.8806 - val_loss: 0.2433 - val_iou_score: 0.6279\n\nEpoch 00035: val_iou_score improved from 0.60710 to 0.62785, saving model to ckp_resnet50.hdf5\nEpoch 36/60\n90/90 [==============================] - 52s 575ms/step - loss: 0.0667 - iou_score: 0.8799 - val_loss: 0.2733 - val_iou_score: 0.5917\n\nEpoch 00036: val_iou_score did not improve from 0.62785\nEpoch 37/60\n90/90 [==============================] - 52s 571ms/step - loss: 0.0661 - iou_score: 0.8811 - val_loss: 0.2791 - val_iou_score: 0.5847\n\nEpoch 00037: val_iou_score did not improve from 0.62785\nEpoch 38/60\n90/90 [==============================] - 52s 577ms/step - loss: 0.0636 - iou_score: 0.8853 - val_loss: 0.2761 - val_iou_score: 0.5898\n\nEpoch 00038: val_iou_score did not improve from 0.62785\nEpoch 39/60\n90/90 [==============================] - 52s 573ms/step - loss: 0.0596 - iou_score: 0.8923 - val_loss: 0.2909 - val_iou_score: 0.5715\n\nEpoch 00039: val_iou_score did not improve from 0.62785\nEpoch 40/60\n90/90 [==============================] - 52s 573ms/step - loss: 0.0606 - iou_score: 0.8905 - val_loss: 0.2587 - val_iou_score: 0.6083\n\nEpoch 00040: val_iou_score did not improve from 0.62785\nEpoch 41/60\n90/90 [==============================] - 52s 581ms/step - loss: 0.0632 - iou_score: 0.8862 - val_loss: 0.2883 - val_iou_score: 0.5753\n\nEpoch 00041: val_iou_score did not improve from 0.62785\nEpoch 42/60\n90/90 [==============================] - 53s 588ms/step - loss: 0.0604 - iou_score: 0.8908 - val_loss: 0.2634 - val_iou_score: 0.6051\n\nEpoch 00042: val_iou_score did not improve from 0.62785\nEpoch 43/60\n90/90 [==============================] - 57s 636ms/step - loss: 0.0632 - iou_score: 0.8862 - val_loss: 0.2669 - val_iou_score: 0.5996\n\nEpoch 00043: val_iou_score did not improve from 0.62785\nEpoch 44/60\n90/90 [==============================] - 52s 579ms/step - loss: 0.0589 - iou_score: 0.8935 - val_loss: 0.2685 - val_iou_score: 0.5976\n\nEpoch 00044: val_iou_score did not improve from 0.62785\nEpoch 45/60\n90/90 [==============================] - 52s 572ms/step - loss: 0.0606 - iou_score: 0.8904 - val_loss: 0.2880 - val_iou_score: 0.5752\n\nEpoch 00045: val_iou_score did not improve from 0.62785\nEpoch 46/60\n90/90 [==============================] - 52s 578ms/step - loss: 0.0608 - iou_score: 0.8901 - val_loss: 0.2527 - val_iou_score: 0.6177\n\nEpoch 00046: val_iou_score did not improve from 0.62785\nEpoch 47/60\n90/90 [==============================] - 52s 573ms/step - loss: 0.0586 - iou_score: 0.8939 - val_loss: 0.2646 - val_iou_score: 0.6003\n\nEpoch 00047: val_iou_score did not improve from 0.62785\nEpoch 48/60\n90/90 [==============================] - 52s 579ms/step - loss: 0.0590 - iou_score: 0.8933 - val_loss: 0.2538 - val_iou_score: 0.6145\n\nEpoch 00048: val_iou_score did not improve from 0.62785\nEpoch 49/60\n90/90 [==============================] - 52s 576ms/step - loss: 0.0638 - iou_score: 0.8854 - val_loss: 0.2474 - val_iou_score: 0.6222\n\nEpoch 00049: val_iou_score did not improve from 0.62785\nEpoch 50/60\n90/90 [==============================] - 52s 573ms/step - loss: 0.0834 - iou_score: 0.8542 - val_loss: 0.2579 - val_iou_score: 0.6082\n\nEpoch 00050: val_iou_score did not improve from 0.62785\nEpoch 51/60\n90/90 [==============================] - 52s 578ms/step - loss: 0.1208 - iou_score: 0.7966 - val_loss: 0.3147 - val_iou_score: 0.5487\n\nEpoch 00051: val_iou_score did not improve from 0.62785\nEpoch 52/60\n90/90 [==============================] - 52s 579ms/step - loss: 0.1212 - iou_score: 0.7938 - val_loss: 0.2857 - val_iou_score: 0.5779\n\nEpoch 00052: val_iou_score did not improve from 0.62785\nEpoch 53/60\n90/90 [==============================] - 52s 575ms/step - loss: 0.0919 - iou_score: 0.8391 - val_loss: 0.2694 - val_iou_score: 0.5972\n\nEpoch 00053: val_iou_score did not improve from 0.62785\nEpoch 54/60\n90/90 [==============================] - 52s 581ms/step - loss: 0.0764 - iou_score: 0.8638 - val_loss: 0.2484 - val_iou_score: 0.6230\n\nEpoch 00054: val_iou_score did not improve from 0.62785\nEpoch 55/60\n90/90 [==============================] - 52s 577ms/step - loss: 0.0651 - iou_score: 0.8830 - val_loss: 0.2491 - val_iou_score: 0.6221\n\nEpoch 00055: val_iou_score did not improve from 0.62785\nEpoch 56/60\n90/90 [==============================] - 52s 573ms/step - loss: 0.0644 - iou_score: 0.8843 - val_loss: 0.2482 - val_iou_score: 0.6209\n\nEpoch 00056: val_iou_score did not improve from 0.62785\nEpoch 57/60\n90/90 [==============================] - 57s 637ms/step - loss: 0.1306 - iou_score: 0.7857 - val_loss: 0.2682 - val_iou_score: 0.5945\n\nEpoch 00057: val_iou_score did not improve from 0.62785\nEpoch 58/60\n90/90 [==============================] - 52s 573ms/step - loss: 0.1017 - iou_score: 0.8234 - val_loss: 0.2445 - val_iou_score: 0.6245\n\nEpoch 00058: val_iou_score did not improve from 0.62785\nEpoch 59/60\n90/90 [==============================] - 52s 577ms/step - loss: 0.0828 - iou_score: 0.8539 - val_loss: 0.2690 - val_iou_score: 0.5956\n\nEpoch 00059: val_iou_score did not improve from 0.62785\nEpoch 60/60\n90/90 [==============================] - 52s 579ms/step - loss: 0.0696 - iou_score: 0.8756 - val_loss: 0.2543 - val_iou_score: 0.6131\n\nEpoch 00060: val_iou_score did not improve from 0.62785\n",
          "output_type": "stream"
        },
        {
          "execution_count": 18,
          "output_type": "execute_result",
          "data": {
            "text/plain": "<keras.callbacks.History at 0x7fec86d6d5d0>"
          },
          "metadata": {}
        }
      ]
    },
    {
      "cell_type": "code",
      "source": [],
      "metadata": {
        "id": "cdu9K5d-pq0P"
      },
      "execution_count": null,
      "outputs": []
    }
  ]
}